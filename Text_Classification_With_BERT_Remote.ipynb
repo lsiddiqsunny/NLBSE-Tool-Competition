{
  "cells": [
    {
      "cell_type": "markdown",
      "metadata": {
        "id": "view-in-github",
        "colab_type": "text"
      },
      "source": [
        "<a href=\"https://colab.research.google.com/github/lsiddiqsunny/NLBSE-Tool-Competition/blob/master/Text_Classification_With_BERT_Remote.ipynb\" target=\"_parent\"><img src=\"https://colab.research.google.com/assets/colab-badge.svg\" alt=\"Open In Colab\"/></a>"
      ]
    },
    {
      "cell_type": "code",
      "execution_count": 3,
      "metadata": {
        "id": "A5u4QGgaNbWt"
      },
      "outputs": [],
      "source": [
        "import torch\n",
        "from tqdm.notebook import tqdm\n",
        "\n",
        "from transformers import BertTokenizer\n",
        "from torch.utils.data import TensorDataset\n",
        "\n",
        "from transformers import BertForSequenceClassification"
      ]
    },
    {
      "cell_type": "code",
      "source": [
        "import os\n",
        "import time\n",
        "import numpy as np\n",
        "import pandas as pd\n",
        "import seaborn as sns\n",
        "import gensim\n",
        "import sklearn.metrics\n",
        "from tqdm.auto import tqdm"
      ],
      "metadata": {
        "id": "GS-VldKbN2Ll"
      },
      "execution_count": 6,
      "outputs": []
    },
    {
      "cell_type": "code",
      "source": [
        "# persistent file storage\n",
        "# https://colab.research.google.com/notebooks/io.ipynb\n",
        "# from google.colab import drive\n",
        "# drive.mount('/content/drive')"
      ],
      "metadata": {
        "colab": {
          "base_uri": "https://localhost:8080/"
        },
        "id": "St0tw1rBNfx4",
        "outputId": "1de2a718-3c0d-4962-87e8-fe6a91face24"
      },
      "execution_count": null,
      "outputs": [
        {
          "output_type": "stream",
          "name": "stdout",
          "text": [
            "Mounted at /content/drive\n"
          ]
        }
      ]
    },
    {
      "cell_type": "code",
      "execution_count": 7,
      "metadata": {
        "id": "_eB8Gt07NbWw"
      },
      "outputs": [],
      "source": [
        "# if not os.path.isfile(\"github-labels-top3-803k-train.csv\"):\n",
        "#   !curl \"https://tickettagger.blob.core.windows.net/datasets/github-labels-top3-803k-train.tar.gz\" | tar -xz\n",
        "\n",
        "df = pd.read_csv('C:\\\\Users\\\\PhotonUser\\\\Documents\\\\Downloads\\\\github-labels-top3-803k-train.csv')"
      ]
    },
    {
      "cell_type": "code",
      "execution_count": 8,
      "metadata": {
        "colab": {
          "base_uri": "https://localhost:8080/",
          "height": 547
        },
        "id": "VJe7hEyzNbWw",
        "outputId": "58aabd6f-16cb-4c0a-80a0-875c34ae48ff"
      },
      "outputs": [
        {
          "output_type": "execute_result",
          "data": {
            "text/plain": [
              "   Unnamed: 0                                          issue_url  issue_label  \\\n",
              "0           0  https://api.github.com/repos/eamodio/vscode-gi...          bug   \n",
              "1           1  https://api.github.com/repos/binwiederhier/pco...          bug   \n",
              "2           2  https://api.github.com/repos/binwiederhier/pco...          bug   \n",
              "3           3  https://api.github.com/repos/Sothatsit/RoyalUr...  enhancement   \n",
              "4           4  https://api.github.com/repos/Malivil/TTT-Custo...          bug   \n",
              "\n",
              "       issue_created_at issue_author_association  \\\n",
              "0  2021-01-02T18:07:30Z                     NONE   \n",
              "1  2020-12-31T18:19:31Z                    OWNER   \n",
              "2  2021-01-03T04:33:36Z                    OWNER   \n",
              "3  2020-12-25T00:46:00Z                    OWNER   \n",
              "4  2021-01-02T21:36:57Z                    OWNER   \n",
              "\n",
              "                                      repository_url  \\\n",
              "0  https://api.github.com/repos/eamodio/vscode-gi...   \n",
              "1   https://api.github.com/repos/binwiederhier/pcopy   \n",
              "2   https://api.github.com/repos/binwiederhier/pcopy   \n",
              "3  https://api.github.com/repos/Sothatsit/RoyalUr...   \n",
              "4  https://api.github.com/repos/Malivil/TTT-Custo...   \n",
              "\n",
              "                                         issue_title  \\\n",
              "0  Welcome screen on every editor window is very ...   \n",
              "1  \"pcopy invite\" and \"pcopy paste abc:\" does not...   \n",
              "2  UI: Modal overlay is half transparent, shouldn...   \n",
              "3  Make the loading screen scale with browser win...   \n",
              "4  Spectator - Investigate a way to strip weapons...   \n",
              "\n",
              "                                          issue_body  \n",
              "0  I just discovered Gitlens and find the functio...  \n",
              "1                                                NaN  \n",
              "2                                                NaN  \n",
              "3  Currently the loading wheel is a fixed size in...  \n",
              "4                    To bring magneto stick floating  "
            ],
            "text/html": [
              "<div>\n",
              "<style scoped>\n",
              "    .dataframe tbody tr th:only-of-type {\n",
              "        vertical-align: middle;\n",
              "    }\n",
              "\n",
              "    .dataframe tbody tr th {\n",
              "        vertical-align: top;\n",
              "    }\n",
              "\n",
              "    .dataframe thead th {\n",
              "        text-align: right;\n",
              "    }\n",
              "</style>\n",
              "<table border=\"1\" class=\"dataframe\">\n",
              "  <thead>\n",
              "    <tr style=\"text-align: right;\">\n",
              "      <th></th>\n",
              "      <th>Unnamed: 0</th>\n",
              "      <th>issue_url</th>\n",
              "      <th>issue_label</th>\n",
              "      <th>issue_created_at</th>\n",
              "      <th>issue_author_association</th>\n",
              "      <th>repository_url</th>\n",
              "      <th>issue_title</th>\n",
              "      <th>issue_body</th>\n",
              "    </tr>\n",
              "  </thead>\n",
              "  <tbody>\n",
              "    <tr>\n",
              "      <th>0</th>\n",
              "      <td>0</td>\n",
              "      <td>https://api.github.com/repos/eamodio/vscode-gi...</td>\n",
              "      <td>bug</td>\n",
              "      <td>2021-01-02T18:07:30Z</td>\n",
              "      <td>NONE</td>\n",
              "      <td>https://api.github.com/repos/eamodio/vscode-gi...</td>\n",
              "      <td>Welcome screen on every editor window is very ...</td>\n",
              "      <td>I just discovered Gitlens and find the functio...</td>\n",
              "    </tr>\n",
              "    <tr>\n",
              "      <th>1</th>\n",
              "      <td>1</td>\n",
              "      <td>https://api.github.com/repos/binwiederhier/pco...</td>\n",
              "      <td>bug</td>\n",
              "      <td>2020-12-31T18:19:31Z</td>\n",
              "      <td>OWNER</td>\n",
              "      <td>https://api.github.com/repos/binwiederhier/pcopy</td>\n",
              "      <td>\"pcopy invite\" and \"pcopy paste abc:\" does not...</td>\n",
              "      <td>NaN</td>\n",
              "    </tr>\n",
              "    <tr>\n",
              "      <th>2</th>\n",
              "      <td>2</td>\n",
              "      <td>https://api.github.com/repos/binwiederhier/pco...</td>\n",
              "      <td>bug</td>\n",
              "      <td>2021-01-03T04:33:36Z</td>\n",
              "      <td>OWNER</td>\n",
              "      <td>https://api.github.com/repos/binwiederhier/pcopy</td>\n",
              "      <td>UI: Modal overlay is half transparent, shouldn...</td>\n",
              "      <td>NaN</td>\n",
              "    </tr>\n",
              "    <tr>\n",
              "      <th>3</th>\n",
              "      <td>3</td>\n",
              "      <td>https://api.github.com/repos/Sothatsit/RoyalUr...</td>\n",
              "      <td>enhancement</td>\n",
              "      <td>2020-12-25T00:46:00Z</td>\n",
              "      <td>OWNER</td>\n",
              "      <td>https://api.github.com/repos/Sothatsit/RoyalUr...</td>\n",
              "      <td>Make the loading screen scale with browser win...</td>\n",
              "      <td>Currently the loading wheel is a fixed size in...</td>\n",
              "    </tr>\n",
              "    <tr>\n",
              "      <th>4</th>\n",
              "      <td>4</td>\n",
              "      <td>https://api.github.com/repos/Malivil/TTT-Custo...</td>\n",
              "      <td>bug</td>\n",
              "      <td>2021-01-02T21:36:57Z</td>\n",
              "      <td>OWNER</td>\n",
              "      <td>https://api.github.com/repos/Malivil/TTT-Custo...</td>\n",
              "      <td>Spectator - Investigate a way to strip weapons...</td>\n",
              "      <td>To bring magneto stick floating</td>\n",
              "    </tr>\n",
              "  </tbody>\n",
              "</table>\n",
              "</div>"
            ]
          },
          "metadata": {},
          "execution_count": 8
        }
      ],
      "source": [
        "df.head()"
      ]
    },
    {
      "cell_type": "code",
      "source": [
        "# if not os.path.isfile(\"github-labels-top3-803k-test.csv\"):\n",
        "#   !curl \"https://tickettagger.blob.core.windows.net/datasets/github-labels-top3-803k-test.tar.gz\" | tar -xz\n",
        "\n",
        "testdf = pd.read_csv(\"C:\\\\Users\\\\PhotonUser\\\\Documents\\\\Downloads\\\\github-labels-top3-803k-test.csv\")\n",
        "testdf.groupby(\"issue_label\").size()"
      ],
      "metadata": {
        "colab": {
          "base_uri": "https://localhost:8080/"
        },
        "id": "HKg7VFB1n_XC",
        "outputId": "0501a380-63fb-4b8c-ca93-d17cc4bb5a64"
      },
      "execution_count": 9,
      "outputs": [
        {
          "output_type": "execute_result",
          "data": {
            "text/plain": [
              "issue_label\n",
              "bug            40288\n",
              "enhancement    33203\n",
              "question        7027\n",
              "dtype: int64"
            ]
          },
          "metadata": {},
          "execution_count": 9
        }
      ]
    },
    {
      "cell_type": "code",
      "execution_count": 10,
      "metadata": {
        "colab": {
          "base_uri": "https://localhost:8080/"
        },
        "id": "8hSCU3jCNbWw",
        "outputId": "dbe760fa-c2a3-426d-b08c-0a73e8df2d99"
      },
      "outputs": [
        {
          "output_type": "execute_result",
          "data": {
            "text/plain": [
              "bug            361103\n",
              "enhancement    299374\n",
              "question        62422\n",
              "Name: issue_label, dtype: int64"
            ]
          },
          "metadata": {},
          "execution_count": 10
        }
      ],
      "source": [
        "df['issue_label'].value_counts()"
      ]
    },
    {
      "cell_type": "code",
      "execution_count": 11,
      "metadata": {
        "colab": {
          "base_uri": "https://localhost:8080/"
        },
        "id": "Fzix_g6yNbWx",
        "outputId": "359ee919-0802-4bc2-9a1e-88a3dbcec45b"
      },
      "outputs": [
        {
          "output_type": "execute_result",
          "data": {
            "text/plain": [
              "{'bug': 0, 'enhancement': 1, 'question': 2}"
            ]
          },
          "metadata": {},
          "execution_count": 11
        }
      ],
      "source": [
        "possible_labels = df.issue_label.unique()\n",
        "\n",
        "label_dict = {}\n",
        "for index, possible_label in enumerate(possible_labels):\n",
        "    label_dict[possible_label] = index\n",
        "label_dict"
      ]
    },
    {
      "cell_type": "code",
      "execution_count": 12,
      "metadata": {
        "id": "5v89CPCjNbWx"
      },
      "outputs": [],
      "source": [
        "df['label'] = df.issue_label.replace(label_dict)\n",
        "testdf['label'] = testdf.issue_label.replace(label_dict)"
      ]
    },
    {
      "cell_type": "code",
      "source": [
        "# preprocessing can be customized by participants\n",
        "def preprocess(row):\n",
        "  # concatenate title and body, then remove whitespaces\n",
        "  doc = \"\"\n",
        "  doc += str(row.issue_title)\n",
        "  doc += \" \"\n",
        "  doc += str(row.issue_body)\n",
        "  # https://radimrehurek.com/gensim/parsing/preprocessing.html\n",
        "  doc = gensim.parsing.preprocessing.strip_multiple_whitespaces(doc)\n",
        "  return doc"
      ],
      "metadata": {
        "id": "aU0fAzg-PUQg"
      },
      "execution_count": 13,
      "outputs": []
    },
    {
      "cell_type": "code",
      "execution_count": 14,
      "metadata": {
        "colab": {
          "base_uri": "https://localhost:8080/",
          "height": 204
        },
        "id": "NKDeYlmSNbWx",
        "outputId": "bf14d204-02fc-4724-d57d-e0d53838b607"
      },
      "outputs": [
        {
          "output_type": "execute_result",
          "data": {
            "text/plain": [
              "   issue_label                                         issue_data  label\n",
              "0          bug  Welcome screen on every editor window is very ...      0\n",
              "1          bug  \"pcopy invite\" and \"pcopy paste abc:\" does not...      0\n",
              "2          bug  UI: Modal overlay is half transparent, shouldn...      0\n",
              "3  enhancement  Make the loading screen scale with browser win...      1\n",
              "4          bug  Spectator - Investigate a way to strip weapons...      0"
            ],
            "text/html": [
              "<div>\n",
              "<style scoped>\n",
              "    .dataframe tbody tr th:only-of-type {\n",
              "        vertical-align: middle;\n",
              "    }\n",
              "\n",
              "    .dataframe tbody tr th {\n",
              "        vertical-align: top;\n",
              "    }\n",
              "\n",
              "    .dataframe thead th {\n",
              "        text-align: right;\n",
              "    }\n",
              "</style>\n",
              "<table border=\"1\" class=\"dataframe\">\n",
              "  <thead>\n",
              "    <tr style=\"text-align: right;\">\n",
              "      <th></th>\n",
              "      <th>issue_label</th>\n",
              "      <th>issue_data</th>\n",
              "      <th>label</th>\n",
              "    </tr>\n",
              "  </thead>\n",
              "  <tbody>\n",
              "    <tr>\n",
              "      <th>0</th>\n",
              "      <td>bug</td>\n",
              "      <td>Welcome screen on every editor window is very ...</td>\n",
              "      <td>0</td>\n",
              "    </tr>\n",
              "    <tr>\n",
              "      <th>1</th>\n",
              "      <td>bug</td>\n",
              "      <td>\"pcopy invite\" and \"pcopy paste abc:\" does not...</td>\n",
              "      <td>0</td>\n",
              "    </tr>\n",
              "    <tr>\n",
              "      <th>2</th>\n",
              "      <td>bug</td>\n",
              "      <td>UI: Modal overlay is half transparent, shouldn...</td>\n",
              "      <td>0</td>\n",
              "    </tr>\n",
              "    <tr>\n",
              "      <th>3</th>\n",
              "      <td>enhancement</td>\n",
              "      <td>Make the loading screen scale with browser win...</td>\n",
              "      <td>1</td>\n",
              "    </tr>\n",
              "    <tr>\n",
              "      <th>4</th>\n",
              "      <td>bug</td>\n",
              "      <td>Spectator - Investigate a way to strip weapons...</td>\n",
              "      <td>0</td>\n",
              "    </tr>\n",
              "  </tbody>\n",
              "</table>\n",
              "</div>"
            ]
          },
          "metadata": {},
          "execution_count": 14
        }
      ],
      "source": [
        "df['issue_data'] = df.apply(preprocess, axis=1)\n",
        "\n",
        "newDF = df[['issue_label','issue_data','label']]\n",
        "newDF.head()"
      ]
    },
    {
      "cell_type": "code",
      "source": [
        "df = newDF.copy()\n",
        "df.head()"
      ],
      "metadata": {
        "colab": {
          "base_uri": "https://localhost:8080/",
          "height": 204
        },
        "id": "C4ZV8b7OQ0Yw",
        "outputId": "d0acb491-62d9-4432-df40-d7980d5729e2"
      },
      "execution_count": 15,
      "outputs": [
        {
          "output_type": "execute_result",
          "data": {
            "text/plain": [
              "   issue_label                                         issue_data  label\n",
              "0          bug  Welcome screen on every editor window is very ...      0\n",
              "1          bug  \"pcopy invite\" and \"pcopy paste abc:\" does not...      0\n",
              "2          bug  UI: Modal overlay is half transparent, shouldn...      0\n",
              "3  enhancement  Make the loading screen scale with browser win...      1\n",
              "4          bug  Spectator - Investigate a way to strip weapons...      0"
            ],
            "text/html": [
              "<div>\n",
              "<style scoped>\n",
              "    .dataframe tbody tr th:only-of-type {\n",
              "        vertical-align: middle;\n",
              "    }\n",
              "\n",
              "    .dataframe tbody tr th {\n",
              "        vertical-align: top;\n",
              "    }\n",
              "\n",
              "    .dataframe thead th {\n",
              "        text-align: right;\n",
              "    }\n",
              "</style>\n",
              "<table border=\"1\" class=\"dataframe\">\n",
              "  <thead>\n",
              "    <tr style=\"text-align: right;\">\n",
              "      <th></th>\n",
              "      <th>issue_label</th>\n",
              "      <th>issue_data</th>\n",
              "      <th>label</th>\n",
              "    </tr>\n",
              "  </thead>\n",
              "  <tbody>\n",
              "    <tr>\n",
              "      <th>0</th>\n",
              "      <td>bug</td>\n",
              "      <td>Welcome screen on every editor window is very ...</td>\n",
              "      <td>0</td>\n",
              "    </tr>\n",
              "    <tr>\n",
              "      <th>1</th>\n",
              "      <td>bug</td>\n",
              "      <td>\"pcopy invite\" and \"pcopy paste abc:\" does not...</td>\n",
              "      <td>0</td>\n",
              "    </tr>\n",
              "    <tr>\n",
              "      <th>2</th>\n",
              "      <td>bug</td>\n",
              "      <td>UI: Modal overlay is half transparent, shouldn...</td>\n",
              "      <td>0</td>\n",
              "    </tr>\n",
              "    <tr>\n",
              "      <th>3</th>\n",
              "      <td>enhancement</td>\n",
              "      <td>Make the loading screen scale with browser win...</td>\n",
              "      <td>1</td>\n",
              "    </tr>\n",
              "    <tr>\n",
              "      <th>4</th>\n",
              "      <td>bug</td>\n",
              "      <td>Spectator - Investigate a way to strip weapons...</td>\n",
              "      <td>0</td>\n",
              "    </tr>\n",
              "  </tbody>\n",
              "</table>\n",
              "</div>"
            ]
          },
          "metadata": {},
          "execution_count": 15
        }
      ]
    },
    {
      "cell_type": "code",
      "source": [
        "\n",
        "testdf['issue_data'] = testdf.apply(preprocess, axis=1)\n",
        "\n",
        "newTestDF = testdf[['issue_label','issue_data','label']]\n",
        "newTestDF.head()"
      ],
      "metadata": {
        "colab": {
          "base_uri": "https://localhost:8080/",
          "height": 204
        },
        "id": "crVqkoIeodRK",
        "outputId": "9558cd4a-8d66-4650-e7f4-744c28c5383c"
      },
      "execution_count": 16,
      "outputs": [
        {
          "output_type": "execute_result",
          "data": {
            "text/plain": [
              "   issue_label                                         issue_data  label\n",
              "0  enhancement  ERROR: KeyError: key (TIFF.SAMPLEFORMAT_INT, 0...      1\n",
              "1  enhancement                 Add database backup to dropbox nan      1\n",
              "2  enhancement  Add a button/method to open the Source or Outp...      1\n",
              "3          bug  Processes are being started twice At some poin...      0\n",
              "4          bug                          Cannot add hp to wall nan      0"
            ],
            "text/html": [
              "<div>\n",
              "<style scoped>\n",
              "    .dataframe tbody tr th:only-of-type {\n",
              "        vertical-align: middle;\n",
              "    }\n",
              "\n",
              "    .dataframe tbody tr th {\n",
              "        vertical-align: top;\n",
              "    }\n",
              "\n",
              "    .dataframe thead th {\n",
              "        text-align: right;\n",
              "    }\n",
              "</style>\n",
              "<table border=\"1\" class=\"dataframe\">\n",
              "  <thead>\n",
              "    <tr style=\"text-align: right;\">\n",
              "      <th></th>\n",
              "      <th>issue_label</th>\n",
              "      <th>issue_data</th>\n",
              "      <th>label</th>\n",
              "    </tr>\n",
              "  </thead>\n",
              "  <tbody>\n",
              "    <tr>\n",
              "      <th>0</th>\n",
              "      <td>enhancement</td>\n",
              "      <td>ERROR: KeyError: key (TIFF.SAMPLEFORMAT_INT, 0...</td>\n",
              "      <td>1</td>\n",
              "    </tr>\n",
              "    <tr>\n",
              "      <th>1</th>\n",
              "      <td>enhancement</td>\n",
              "      <td>Add database backup to dropbox nan</td>\n",
              "      <td>1</td>\n",
              "    </tr>\n",
              "    <tr>\n",
              "      <th>2</th>\n",
              "      <td>enhancement</td>\n",
              "      <td>Add a button/method to open the Source or Outp...</td>\n",
              "      <td>1</td>\n",
              "    </tr>\n",
              "    <tr>\n",
              "      <th>3</th>\n",
              "      <td>bug</td>\n",
              "      <td>Processes are being started twice At some poin...</td>\n",
              "      <td>0</td>\n",
              "    </tr>\n",
              "    <tr>\n",
              "      <th>4</th>\n",
              "      <td>bug</td>\n",
              "      <td>Cannot add hp to wall nan</td>\n",
              "      <td>0</td>\n",
              "    </tr>\n",
              "  </tbody>\n",
              "</table>\n",
              "</div>"
            ]
          },
          "metadata": {},
          "execution_count": 16
        }
      ]
    },
    {
      "cell_type": "code",
      "source": [
        "testdf = newTestDF.copy()\n",
        "testdf.head()"
      ],
      "metadata": {
        "colab": {
          "base_uri": "https://localhost:8080/",
          "height": 204
        },
        "id": "WH5oM0teogl7",
        "outputId": "1b2cc3a8-aa11-42f2-bcfd-538a3e0ea531"
      },
      "execution_count": 17,
      "outputs": [
        {
          "output_type": "execute_result",
          "data": {
            "text/plain": [
              "   issue_label                                         issue_data  label\n",
              "0  enhancement  ERROR: KeyError: key (TIFF.SAMPLEFORMAT_INT, 0...      1\n",
              "1  enhancement                 Add database backup to dropbox nan      1\n",
              "2  enhancement  Add a button/method to open the Source or Outp...      1\n",
              "3          bug  Processes are being started twice At some poin...      0\n",
              "4          bug                          Cannot add hp to wall nan      0"
            ],
            "text/html": [
              "<div>\n",
              "<style scoped>\n",
              "    .dataframe tbody tr th:only-of-type {\n",
              "        vertical-align: middle;\n",
              "    }\n",
              "\n",
              "    .dataframe tbody tr th {\n",
              "        vertical-align: top;\n",
              "    }\n",
              "\n",
              "    .dataframe thead th {\n",
              "        text-align: right;\n",
              "    }\n",
              "</style>\n",
              "<table border=\"1\" class=\"dataframe\">\n",
              "  <thead>\n",
              "    <tr style=\"text-align: right;\">\n",
              "      <th></th>\n",
              "      <th>issue_label</th>\n",
              "      <th>issue_data</th>\n",
              "      <th>label</th>\n",
              "    </tr>\n",
              "  </thead>\n",
              "  <tbody>\n",
              "    <tr>\n",
              "      <th>0</th>\n",
              "      <td>enhancement</td>\n",
              "      <td>ERROR: KeyError: key (TIFF.SAMPLEFORMAT_INT, 0...</td>\n",
              "      <td>1</td>\n",
              "    </tr>\n",
              "    <tr>\n",
              "      <th>1</th>\n",
              "      <td>enhancement</td>\n",
              "      <td>Add database backup to dropbox nan</td>\n",
              "      <td>1</td>\n",
              "    </tr>\n",
              "    <tr>\n",
              "      <th>2</th>\n",
              "      <td>enhancement</td>\n",
              "      <td>Add a button/method to open the Source or Outp...</td>\n",
              "      <td>1</td>\n",
              "    </tr>\n",
              "    <tr>\n",
              "      <th>3</th>\n",
              "      <td>bug</td>\n",
              "      <td>Processes are being started twice At some poin...</td>\n",
              "      <td>0</td>\n",
              "    </tr>\n",
              "    <tr>\n",
              "      <th>4</th>\n",
              "      <td>bug</td>\n",
              "      <td>Cannot add hp to wall nan</td>\n",
              "      <td>0</td>\n",
              "    </tr>\n",
              "  </tbody>\n",
              "</table>\n",
              "</div>"
            ]
          },
          "metadata": {},
          "execution_count": 17
        }
      ]
    },
    {
      "cell_type": "code",
      "execution_count": 18,
      "metadata": {
        "id": "jqeMGOI0NbWx"
      },
      "outputs": [],
      "source": [
        "from sklearn.model_selection import train_test_split\n",
        "\n",
        "X_train, X_val, y_train, y_val = train_test_split(df.index.values, \n",
        "                                                  df.label.values, \n",
        "                                                  test_size=0.15, \n",
        "                                                  random_state=42, \n",
        "                                                  stratify=df.label.values)"
      ]
    },
    {
      "cell_type": "code",
      "execution_count": 19,
      "metadata": {
        "id": "-CY0vT4ANbWx"
      },
      "outputs": [],
      "source": [
        "df['data_type'] = ['not_set']*df.shape[0]\n",
        "\n",
        "df.loc[X_train, 'data_type'] = 'train'\n",
        "df.loc[X_val, 'data_type'] = 'val'"
      ]
    },
    {
      "cell_type": "code",
      "execution_count": 20,
      "metadata": {
        "colab": {
          "base_uri": "https://localhost:8080/",
          "height": 266
        },
        "id": "ePNU-YWPNbWy",
        "outputId": "daeaa32f-1a9e-4796-c4a0-fd9033bc789a"
      },
      "outputs": [
        {
          "output_type": "execute_result",
          "data": {
            "text/plain": [
              "                             issue_data\n",
              "issue_label label data_type            \n",
              "bug         0     train          306937\n",
              "                  val             54166\n",
              "enhancement 1     train          254468\n",
              "                  val             44906\n",
              "question    2     train           53059\n",
              "                  val              9363"
            ],
            "text/html": [
              "<div>\n",
              "<style scoped>\n",
              "    .dataframe tbody tr th:only-of-type {\n",
              "        vertical-align: middle;\n",
              "    }\n",
              "\n",
              "    .dataframe tbody tr th {\n",
              "        vertical-align: top;\n",
              "    }\n",
              "\n",
              "    .dataframe thead th {\n",
              "        text-align: right;\n",
              "    }\n",
              "</style>\n",
              "<table border=\"1\" class=\"dataframe\">\n",
              "  <thead>\n",
              "    <tr style=\"text-align: right;\">\n",
              "      <th></th>\n",
              "      <th></th>\n",
              "      <th></th>\n",
              "      <th>issue_data</th>\n",
              "    </tr>\n",
              "    <tr>\n",
              "      <th>issue_label</th>\n",
              "      <th>label</th>\n",
              "      <th>data_type</th>\n",
              "      <th></th>\n",
              "    </tr>\n",
              "  </thead>\n",
              "  <tbody>\n",
              "    <tr>\n",
              "      <th rowspan=\"2\" valign=\"top\">bug</th>\n",
              "      <th rowspan=\"2\" valign=\"top\">0</th>\n",
              "      <th>train</th>\n",
              "      <td>306937</td>\n",
              "    </tr>\n",
              "    <tr>\n",
              "      <th>val</th>\n",
              "      <td>54166</td>\n",
              "    </tr>\n",
              "    <tr>\n",
              "      <th rowspan=\"2\" valign=\"top\">enhancement</th>\n",
              "      <th rowspan=\"2\" valign=\"top\">1</th>\n",
              "      <th>train</th>\n",
              "      <td>254468</td>\n",
              "    </tr>\n",
              "    <tr>\n",
              "      <th>val</th>\n",
              "      <td>44906</td>\n",
              "    </tr>\n",
              "    <tr>\n",
              "      <th rowspan=\"2\" valign=\"top\">question</th>\n",
              "      <th rowspan=\"2\" valign=\"top\">2</th>\n",
              "      <th>train</th>\n",
              "      <td>53059</td>\n",
              "    </tr>\n",
              "    <tr>\n",
              "      <th>val</th>\n",
              "      <td>9363</td>\n",
              "    </tr>\n",
              "  </tbody>\n",
              "</table>\n",
              "</div>"
            ]
          },
          "metadata": {},
          "execution_count": 20
        }
      ],
      "source": [
        "df.groupby(['issue_label', 'label', 'data_type']).count()"
      ]
    },
    {
      "cell_type": "code",
      "execution_count": 21,
      "metadata": {
        "id": "nGr0zaLsNbWy"
      },
      "outputs": [],
      "source": [
        "tokenizer = BertTokenizer.from_pretrained('bert-base-uncased', \n",
        "                                          do_lower_case=True)"
      ]
    },
    {
      "cell_type": "code",
      "execution_count": null,
      "metadata": {
        "id": "dH8A2IRiNbWy"
      },
      "outputs": [],
      "source": [
        "encoded_data_train = tokenizer.batch_encode_plus(\n",
        "    df[df.data_type=='train'].issue_data.values, \n",
        "    add_special_tokens=True, \n",
        "    return_attention_mask=True, \n",
        "    padding='longest',\n",
        "    truncation=True, \n",
        "    return_tensors='pt'\n",
        ")\n",
        "\n",
        "input_ids_train = encoded_data_train['input_ids']\n",
        "attention_masks_train = encoded_data_train['attention_mask']\n",
        "labels_train = torch.tensor(df[df.data_type=='train'].label.values)"
      ]
    },
    {
      "cell_type": "code",
      "source": [
        "encoded_data_val = tokenizer.batch_encode_plus(\n",
        "    df[df.data_type=='val'].issue_data.values, \n",
        "    add_special_tokens=True, \n",
        "    return_attention_mask=True, \n",
        "    padding='longest',\n",
        "    truncation=True,\n",
        "    return_tensors='pt'\n",
        ")\n",
        "\n",
        "input_ids_val = encoded_data_val['input_ids']\n",
        "attention_masks_val = encoded_data_val['attention_mask']\n",
        "labels_val = torch.tensor(df[df.data_type=='val'].label.values)"
      ],
      "metadata": {
        "id": "oO7HzijCgHtt"
      },
      "execution_count": null,
      "outputs": []
    },
    {
      "cell_type": "code",
      "source": [
        "encoded_data_test = tokenizer.batch_encode_plus(\n",
        "    testdf.issue_data.values, \n",
        "    add_special_tokens=True, \n",
        "    return_attention_mask=True, \n",
        "    padding='longest',\n",
        "    truncation=True,\n",
        "    return_tensors='pt'\n",
        ")\n",
        "\n",
        "input_ids_test= encoded_data_test['input_ids']\n",
        "attention_masks_test = encoded_data_test['attention_mask']\n",
        "labels_test= torch.tensor(testdf.label.values)"
      ],
      "metadata": {
        "id": "mwisRDSwopOB"
      },
      "execution_count": null,
      "outputs": []
    },
    {
      "cell_type": "code",
      "execution_count": null,
      "metadata": {
        "id": "I55kZrlcNbWz"
      },
      "outputs": [],
      "source": [
        "dataset_train = TensorDataset(input_ids_train, attention_masks_train, labels_train)\n",
        "dataset_val = TensorDataset(input_ids_val, attention_masks_val, labels_val)\n",
        "dataset_test = TensorDataset(input_ids_test, attention_masks_test, labels_test)"
      ]
    },
    {
      "cell_type": "code",
      "execution_count": null,
      "metadata": {
        "id": "3CRGk9OcNbWz"
      },
      "outputs": [],
      "source": [
        "len(dataset_train), len(dataset_val), len(dataset_test)"
      ]
    },
    {
      "cell_type": "code",
      "execution_count": null,
      "metadata": {
        "id": "KgFzaKXNNbWz"
      },
      "outputs": [],
      "source": [
        "model = BertForSequenceClassification.from_pretrained(\"bert-base-uncased\",\n",
        "                                                      num_labels=len(label_dict),\n",
        "                                                      output_attentions=False,\n",
        "                                                      output_hidden_states=False)"
      ]
    },
    {
      "cell_type": "code",
      "execution_count": null,
      "metadata": {
        "id": "RXUZ-tJBNbWz"
      },
      "outputs": [],
      "source": [
        "from torch.utils.data import DataLoader, RandomSampler, SequentialSampler\n",
        "\n",
        "batch_size = 3\n",
        "\n",
        "dataloader_train = DataLoader(dataset_train, \n",
        "                              sampler=RandomSampler(dataset_train), \n",
        "                              batch_size=batch_size)\n",
        "\n",
        "dataloader_validation = DataLoader(dataset_val, \n",
        "                                   sampler=SequentialSampler(dataset_val), \n",
        "                                   batch_size=batch_size)\n",
        "\n",
        "\n",
        "dataloader_test = DataLoader(dataset_test, \n",
        "                                   sampler=SequentialSampler(dataset_test), \n",
        "                                   batch_size=batch_size)"
      ]
    },
    {
      "cell_type": "code",
      "execution_count": null,
      "metadata": {
        "id": "M0MCvDjeNbWz"
      },
      "outputs": [],
      "source": [
        "from transformers import AdamW, get_linear_schedule_with_warmup\n",
        "\n",
        "optimizer = AdamW(model.parameters(),\n",
        "                  lr=1e-5, \n",
        "                  eps=1e-8)"
      ]
    },
    {
      "cell_type": "code",
      "execution_count": null,
      "metadata": {
        "id": "pv-9MgtbNbW0"
      },
      "outputs": [],
      "source": [
        "epochs = 5\n",
        "\n",
        "scheduler = get_linear_schedule_with_warmup(optimizer, \n",
        "                                            num_warmup_steps=0,\n",
        "                                            num_training_steps=len(dataloader_train)*epochs)"
      ]
    },
    {
      "cell_type": "code",
      "execution_count": null,
      "metadata": {
        "id": "dOv7JZIwNbW0"
      },
      "outputs": [],
      "source": [
        "from sklearn.metrics import f1_score\n",
        "\n",
        "def f1_score_func(preds, labels):\n",
        "    preds_flat = np.argmax(preds, axis=1).flatten()\n",
        "    labels_flat = labels.flatten()\n",
        "    return f1_score(labels_flat, preds_flat, average='weighted')\n",
        "\n",
        "def accuracy_per_class(preds, labels):\n",
        "    label_dict_inverse = {v: k for k, v in label_dict.items()}\n",
        "    \n",
        "    preds_flat = np.argmax(preds, axis=1).flatten()\n",
        "    labels_flat = labels.flatten()\n",
        "\n",
        "    for label in np.unique(labels_flat):\n",
        "        y_preds = preds_flat[labels_flat==label]\n",
        "        y_true = labels_flat[labels_flat==label]\n",
        "        print(f'Class: {label_dict_inverse[label]}')\n",
        "        print(f'Accuracy: {len(y_preds[y_preds==label])}/{len(y_true)}\\n')"
      ]
    },
    {
      "cell_type": "code",
      "execution_count": null,
      "metadata": {
        "id": "AKywP7NsNbW0"
      },
      "outputs": [],
      "source": [
        "import random\n",
        "\n",
        "seed_val = 17\n",
        "random.seed(seed_val)\n",
        "np.random.seed(seed_val)\n",
        "torch.manual_seed(seed_val)\n",
        "torch.cuda.manual_seed_all(seed_val)"
      ]
    },
    {
      "cell_type": "code",
      "execution_count": null,
      "metadata": {
        "id": "QAePtSo8NbW0"
      },
      "outputs": [],
      "source": [
        "device = torch.device('cuda' if torch.cuda.is_available() else 'cpu')\n",
        "model.to(device)\n",
        "\n",
        "print(device)"
      ]
    },
    {
      "cell_type": "code",
      "execution_count": null,
      "metadata": {
        "id": "KGh2asCGNbW0"
      },
      "outputs": [],
      "source": [
        "def evaluate(dataloader_val):\n",
        "\n",
        "    model.eval()\n",
        "    \n",
        "    loss_val_total = 0\n",
        "    predictions, true_vals = [], []\n",
        "    \n",
        "    for batch in dataloader_val:\n",
        "        \n",
        "        batch = tuple(b.to(device) for b in batch)\n",
        "        \n",
        "        inputs = {'input_ids':      batch[0],\n",
        "                  'attention_mask': batch[1],\n",
        "                  'labels':         batch[2],\n",
        "                 }\n",
        "\n",
        "        with torch.no_grad():        \n",
        "            outputs = model(**inputs)\n",
        "            \n",
        "        loss = outputs[0]\n",
        "        logits = outputs[1]\n",
        "        loss_val_total += loss.item()\n",
        "\n",
        "        logits = logits.detach().cpu().numpy()\n",
        "        label_ids = inputs['labels'].cpu().numpy()\n",
        "        predictions.append(logits)\n",
        "        true_vals.append(label_ids)\n",
        "    \n",
        "    loss_val_avg = loss_val_total/len(dataloader_val) \n",
        "    \n",
        "    predictions = np.concatenate(predictions, axis=0)\n",
        "    true_vals = np.concatenate(true_vals, axis=0)\n",
        "            \n",
        "    return loss_val_avg, predictions, true_vals"
      ]
    },
    {
      "cell_type": "code",
      "execution_count": null,
      "metadata": {
        "id": "CTkAmJKtNbW0"
      },
      "outputs": [],
      "source": [
        "for epoch in tqdm(range(1, epochs+1)):\n",
        "    \n",
        "    model.train()\n",
        "    \n",
        "    loss_train_total = 0\n",
        "\n",
        "    progress_bar = tqdm(dataloader_train, desc='Epoch {:1d}'.format(epoch), leave=False, disable=False)\n",
        "    for batch in progress_bar:\n",
        "\n",
        "        model.zero_grad()\n",
        "        \n",
        "        batch = tuple(b.to(device) for b in batch)\n",
        "        \n",
        "        inputs = {'input_ids':      batch[0],\n",
        "                  'attention_mask': batch[1],\n",
        "                  'labels':         batch[2],\n",
        "                 }       \n",
        "\n",
        "        outputs = model(**inputs)\n",
        "        \n",
        "        loss = outputs[0]\n",
        "        loss_train_total += loss.item()\n",
        "        loss.backward()\n",
        "\n",
        "        torch.nn.utils.clip_grad_norm_(model.parameters(), 1.0)\n",
        "\n",
        "        optimizer.step()\n",
        "        scheduler.step()\n",
        "        \n",
        "        progress_bar.set_postfix({'training_loss': '{:.3f}'.format(loss.item()/len(batch))})\n",
        "         \n",
        "        \n",
        "    torch.save(model.state_dict(), f'finetuned_BERT_epoch_{epoch}.model')\n",
        "        \n",
        "    tqdm.write(f'\\nEpoch {epoch}')\n",
        "    \n",
        "    loss_train_avg = loss_train_total/len(dataloader_train)            \n",
        "    tqdm.write(f'Training loss: {loss_train_avg}')\n",
        "    \n",
        "    val_loss, predictions, true_vals = evaluate(dataloader_validation)\n",
        "    val_f1 = f1_score_func(predictions, true_vals)\n",
        "    tqdm.write(f'Validation loss: {val_loss}')\n",
        "    tqdm.write(f'F1 Score (Weighted): {val_f1}')"
      ]
    },
    {
      "cell_type": "code",
      "execution_count": null,
      "metadata": {
        "scrolled": false,
        "id": "BlhtO-bKNbW1"
      },
      "outputs": [],
      "source": [
        "model = BertForSequenceClassification.from_pretrained(\"bert-base-uncased\",\n",
        "                                                      num_labels=len(label_dict),\n",
        "                                                      output_attentions=False,\n",
        "                                                      output_hidden_states=False)\n",
        "\n",
        "model.to(device)"
      ]
    },
    {
      "cell_type": "code",
      "execution_count": null,
      "metadata": {
        "id": "3UWxBtHoNbW1"
      },
      "outputs": [],
      "source": [
        "model.load_state_dict(torch.load('finetuned_BERT_epoch_1.model', map_location=torch.device('cpu')))"
      ]
    },
    {
      "cell_type": "code",
      "execution_count": null,
      "metadata": {
        "id": "HPQvZO2RNbW1"
      },
      "outputs": [],
      "source": [
        "_, predictions, true_vals = evaluate(dataloader_test)"
      ]
    },
    {
      "cell_type": "code",
      "execution_count": null,
      "metadata": {
        "id": "tGBlBW5mNbW1"
      },
      "outputs": [],
      "source": [
        "accuracy_per_class(predictions, true_vals)"
      ]
    },
    {
      "cell_type": "code",
      "execution_count": null,
      "metadata": {
        "id": "sYnUc-xyNbW1"
      },
      "outputs": [],
      "source": [
        ""
      ]
    }
  ],
  "metadata": {
    "kernelspec": {
      "display_name": "Python 3",
      "language": "python",
      "name": "python3"
    },
    "language_info": {
      "codemirror_mode": {
        "name": "ipython",
        "version": 3
      },
      "file_extension": ".py",
      "mimetype": "text/x-python",
      "name": "python",
      "nbconvert_exporter": "python",
      "pygments_lexer": "ipython3",
      "version": "3.6.7"
    },
    "colab": {
      "name": "Text_Classification_With_BERT.ipynb",
      "provenance": [],
      "include_colab_link": true
    }
  },
  "nbformat": 4,
  "nbformat_minor": 0
}